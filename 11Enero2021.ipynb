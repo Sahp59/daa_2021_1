{
  "nbformat": 4,
  "nbformat_minor": 0,
  "metadata": {
    "colab": {
      "name": "11Enero2021.ipynb",
      "provenance": []
    },
    "kernelspec": {
      "name": "python3",
      "display_name": "Python 3"
    }
  },
  "cells": [
    {
      "cell_type": "code",
      "metadata": {
        "id": "VYHbY4W77EB1"
      },
      "source": [
        "class NodoArbol:\r\n",
        "  def __init__(self , value , left = None, rigth = None):\r\n",
        "    self.data = value\r\n",
        "    self.left = left\r\n",
        "    self.rigth = rigth"
      ],
      "execution_count": 12,
      "outputs": []
    },
    {
      "cell_type": "code",
      "metadata": {
        "id": "EXZ2HtpA8iu-"
      },
      "source": [
        "arbol = NodoArbol(\"R\",NodoArbol(\"C\"),NodoArbol(\"H\"))"
      ],
      "execution_count": 7,
      "outputs": []
    },
    {
      "cell_type": "code",
      "metadata": {
        "id": "yzCTzPkI-DxM"
      },
      "source": [
        "nodo1 = NodoArbol(\"C\")\r\n",
        "nodo2 = NodoArbol(\"H\")\r\n",
        "arbol_v2 = NodoArbol(\"R\",nodo1,nodo2)"
      ],
      "execution_count": 9,
      "outputs": []
    },
    {
      "cell_type": "code",
      "metadata": {
        "colab": {
          "base_uri": "https://localhost:8080/"
        },
        "id": "ObSFY4lk-UyE",
        "outputId": "049554b9-b8d1-4fca-99ab-b17d314bdc06"
      },
      "source": [
        "print(arbol.rigth.data)\r\n",
        "print(arbol_v2.rigth.data)"
      ],
      "execution_count": 10,
      "outputs": [
        {
          "output_type": "stream",
          "text": [
            "H\n",
            "H\n"
          ],
          "name": "stdout"
        }
      ]
    },
    {
      "cell_type": "code",
      "metadata": {
        "colab": {
          "base_uri": "https://localhost:8080/"
        },
        "id": "bq1nCO0D-wsr",
        "outputId": "91862211-d826-4333-eba6-42a7a19b2f99"
      },
      "source": [
        "arbol2 = NodoArbol(4,NodoArbol(3,NodoArbol(2,NodoArbol(2))),NodoArbol(5))\r\n",
        "print(arbol2.left.left.left.data)\r\n",
        "\r\n",
        "aux = arbol2\r\n",
        "while aux.left != None:\r\n",
        "  aux = aux.left"
      ],
      "execution_count": 15,
      "outputs": [
        {
          "output_type": "stream",
          "text": [
            "2\n"
          ],
          "name": "stdout"
        }
      ]
    },
    {
      "cell_type": "code",
      "metadata": {
        "colab": {
          "base_uri": "https://localhost:8080/"
        },
        "id": "2eWJid81EaNQ",
        "outputId": "8b24ed67-005f-448c-810c-8e3a07077f97"
      },
      "source": [
        "arbolNombres = NodoArbol(\"Santi\",None,NodoArbol(\"Jesus\",NodoArbol(\"Pedro\",None,NodoArbol(\"Pedro\")),None))\r\n",
        "print(arbolNombres.rigth.left.rigth.data)"
      ],
      "execution_count": 17,
      "outputs": [
        {
          "output_type": "stream",
          "text": [
            "Pedro\n"
          ],
          "name": "stdout"
        }
      ]
    }
  ]
}