{
  "nbformat": 4,
  "nbformat_minor": 0,
  "metadata": {
    "colab": {
      "name": "30Septiembre.ipynb",
      "provenance": [],
      "authorship_tag": "ABX9TyOzlb7plRwSkXbT7wAROgi/",
      "include_colab_link": true
    },
    "kernelspec": {
      "name": "python3",
      "display_name": "Python 3"
    }
  },
  "cells": [
    {
      "cell_type": "markdown",
      "metadata": {
        "id": "view-in-github",
        "colab_type": "text"
      },
      "source": [
        "<a href=\"https://colab.research.google.com/github/Sahp59/daa_2021_1/blob/master/30Septiembre.ipynb\" target=\"_parent\"><img src=\"https://colab.research.google.com/assets/colab-badge.svg\" alt=\"Open In Colab\"/></a>"
      ]
    },
    {
      "cell_type": "markdown",
      "metadata": {
        "id": "3EZFWEc8QG9N"
      },
      "source": [
        "# Palindromo\n",
        "Es una palabra que se lee de igual forma de un sentido y de sentido inverso.\n",
        "anita lava la tina\n",
        "sugus\n",
        "oso\n",
        "\n",
        "### Planteamiento de problema\n",
        "Se desea encontrar todos los palindromos que existen en la franja horaria de un dia completo, tomando el horario inicial 00:00 y como horario final 23:59.\n",
        "\n",
        "El algoritm debe mostrar en pantalla todos los palindromos existentes en ese rango, al final debe mostrar el conteo del total de palindromos existentes."
      ]
    },
    {
      "cell_type": "code",
      "metadata": {
        "id": "Xxw3xP41QDc1",
        "outputId": "9ed91ee9-082a-4720-a3cd-b68c381026d1",
        "colab": {
          "base_uri": "https://localhost:8080/",
          "height": 306
        }
      },
      "source": [
        "conteo = 0\n",
        "for i in range(0,24):\n",
        "  for j in range(0,60):\n",
        "    horas = str(i)\n",
        "    minutos = str(j)\n",
        "    if (i<10):\n",
        "      horas = \"0\"+horas\n",
        "    if (j<10):\n",
        "      minutos = \"0\"+minutos\n",
        "    if (horas[::-1] == minutos):\n",
        "      print(\"La hora \" + horas + \":\" + minutos + \" es un palindromo\")\n",
        "      conteo += 1\n",
        "print(\"Total de palindromos\",conteo)"
      ],
      "execution_count": 14,
      "outputs": [
        {
          "output_type": "stream",
          "text": [
            "La hora 00:00 es un palindromo\n",
            "La hora 01:10 es un palindromo\n",
            "La hora 02:20 es un palindromo\n",
            "La hora 03:30 es un palindromo\n",
            "La hora 04:40 es un palindromo\n",
            "La hora 05:50 es un palindromo\n",
            "La hora 10:01 es un palindromo\n",
            "La hora 11:11 es un palindromo\n",
            "La hora 12:21 es un palindromo\n",
            "La hora 13:31 es un palindromo\n",
            "La hora 14:41 es un palindromo\n",
            "La hora 15:51 es un palindromo\n",
            "La hora 20:02 es un palindromo\n",
            "La hora 21:12 es un palindromo\n",
            "La hora 22:22 es un palindromo\n",
            "La hora 23:32 es un palindromo\n",
            "Total de palindromos 16\n"
          ],
          "name": "stdout"
        }
      ]
    }
  ]
}