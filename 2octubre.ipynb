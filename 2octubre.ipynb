{
  "nbformat": 4,
  "nbformat_minor": 0,
  "metadata": {
    "colab": {
      "name": "2octubre.ipynb",
      "provenance": [],
      "collapsed_sections": [],
      "authorship_tag": "ABX9TyNtq0EolaOyr07ioky6ZsHq",
      "include_colab_link": true
    },
    "kernelspec": {
      "name": "python3",
      "display_name": "Python 3"
    }
  },
  "cells": [
    {
      "cell_type": "markdown",
      "metadata": {
        "id": "view-in-github",
        "colab_type": "text"
      },
      "source": [
        "<a href=\"https://colab.research.google.com/github/Sahp59/daa_2021_1/blob/master/2octubre.ipynb\" target=\"_parent\"><img src=\"https://colab.research.google.com/assets/colab-badge.svg\" alt=\"Open In Colab\"/></a>"
      ]
    },
    {
      "cell_type": "markdown",
      "metadata": {
        "id": "6psnOK-CiAUg"
      },
      "source": [
        "## Meteorología en México\n",
        "En Sistema meteorológico nacional lleva el registro de la lluvias desde el año 1985 y lo pone a disposición de la población por medio de la pagina datos.gob.mx.\n",
        "\n",
        "En la siguiente liga se encuentran 2  archivos separados por comas CSV correspondientes a los registros de lluvias\n",
        "mensuales y anuales de los años 2017 y 2018. En los columnas se encuentran 13,  correspondientes al promedio mensual y el promedio anual.\n",
        "En los renglones se encuentran 33, correspondientes a cada uno de los 32 estados y a nivel nacional.\n",
        "\n",
        "https://drive.google.com/file/d/1lamkxgq2AsXRu81Y4JTNXLVld4og7nxt/view?usp=sharing\n",
        "\n",
        "\n",
        "## Planteamiento del problema\n",
        "Diseñar un algoritmo y programarlo para que:\n",
        "1. Solicite por teclado el año, el estado y el mes, en base a esa información:\n",
        "- muestre en pantalla el promedio de ese mes en ese estado en el año seleccionado.\n",
        "- muestre en pantalla el promedio anual del  estado seleccionado.\n",
        "- muestre la suma de los 12 meses de ese estado en el año seleccionado.\n",
        "\n",
        "2. Busque el mes que mas llovió en todos los estados durante esos dos años. Imprimir año, estado y mes.\n",
        "3. Busque el mes que menos llovió en los dos. Imprimir año, estado y mes."
      ]
    },
    {
      "cell_type": "code",
      "metadata": {
        "id": "xqwNv0psh-WP"
      },
      "source": [
        "import csv\n",
        "from Arrays import Array3D\n",
        "def main():\n",
        "   archivos = Array3D(2,33,13)   #2 años,  33 estados, 14 datos\n",
        "   r = 0\n",
        "   c = 0\n",
        "   for ano in range(2017,2019,1):\n",
        "      with open(str(ano)+\"Precip.csv\" , newline='') as file:\n",
        "         reader = csv.reader(file)\n",
        "         for row in reader:\n",
        "            for col in row:\n",
        "               if c == 0:\n",
        "                  None\n",
        "               else:\n",
        "                  if (r<1):\n",
        "                     None\n",
        "                  else:\n",
        "                     archivos.set_item(ano-2017,r-2,c,col)\n",
        "                     c += 1\n",
        "            r += 1\n",
        "            c = 0\n",
        "         r = 0\n",
        "   print(\"exito al guardar todo el archivo\")\n",
        "\n",
        "\n",
        "   a = int(input('Año (2017 o 2018)'))\n",
        "   e = int(input('Edo (1-32)'))\n",
        "   m = int(input('Mes (1-12)'))\n",
        "\n",
        "   #AÑO ESTADO MES\n",
        "   print(f\"En el estado {archivos.get_item(a-2017,e,m-m)} llovio un promedio de {archivos.get_item(a-2017,e,m)} centimetros cubicos en el mes de {archivos.get_item(a-2017,e-e,m)} de {a} \")\n",
        "\n",
        "   #ESTADO MES\n",
        "   s = 0\n",
        "   for an in range(0,1,1):\n",
        "      i = archivos.get_item(an,e,m)\n",
        "      s = s + i\n",
        "   d = s/33\n",
        "   print(f\"Del año 1985 al 2019 en el mes de {archivos.get_item(a-2017,e-e,m)} del estado {archivos.get_item(a-2017,e,m-m)} hay un promedio de {d} centimetros cubicos\")\n",
        "\n",
        "   #ESTADO\n",
        "   s = 0\n",
        "   sp = 0\n",
        "   for an in range(0,1,1):\n",
        "      for me in range(1,13,1):\n",
        "         i = archivos.get_item(an,e,me)\n",
        "         s = s + i\n",
        "      p = s/12\n",
        "      sp = (sp + p)/33\n",
        "   print(f\"Del año 1985 al 2018 en todos los meses del estado de {archivos.get_item(a-2017,e,m-m)} hay un promedio de {sp}\")\n",
        "\n",
        "   #promedio total\n",
        "   s = 0\n",
        "   sp = 0\n",
        "   spp = 0 \n",
        "   for an in range(0,1,1):\n",
        "      for es in range(1,33,1):\n",
        "         for me in range(1,13,1):\n",
        "               i = archivos.get_item(an,es,me)\n",
        "               s = s + i\n",
        "         p = s/12\n",
        "         sp = (sp + p)/32\n",
        "      spp = (spp + sp)/33\n",
        "   print(f\"El promedio total de todos los años, los meses y los estados de Mexico es de {spp}\")\n",
        "\n",
        "main()\n"
      ],
      "execution_count": null,
      "outputs": []
    }
  ]
}