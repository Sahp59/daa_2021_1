{
  "nbformat": 4,
  "nbformat_minor": 0,
  "metadata": {
    "colab": {
      "name": "Tarea 4.ipynb",
      "provenance": [],
      "collapsed_sections": [],
      "toc_visible": true,
      "authorship_tag": "ABX9TyPM+L+HBpjJxQKbJExO5rEJ",
      "include_colab_link": true
    },
    "kernelspec": {
      "name": "python3",
      "display_name": "Python 3"
    }
  },
  "cells": [
    {
      "cell_type": "markdown",
      "metadata": {
        "id": "view-in-github",
        "colab_type": "text"
      },
      "source": [
        "<a href=\"https://colab.research.google.com/github/Sahp59/daa_2021_1/blob/master/Tarea_4.ipynb\" target=\"_parent\"><img src=\"https://colab.research.google.com/assets/colab-badge.svg\" alt=\"Open In Colab\"/></a>"
      ]
    },
    {
      "cell_type": "markdown",
      "metadata": {
        "id": "DW-us8K8MQ3B"
      },
      "source": [
        "# Tarea 4\n",
        "Programar el ejemplo visto en clase en python en su colab\n",
        "Poner 2 print, uno en el primer nivel y el otro dentro del while, \n",
        "en una una tabla de excel poner la función dando valores a n\n",
        "\n",
        "Entregar su link de su Github, directo al archivo ipynb en donde subirán el código junto con su archivo excel."
      ]
    },
    {
      "cell_type": "code",
      "metadata": {
        "id": "jw6e8cXxMLuH"
      },
      "source": [
        "def ejemplo(n):\n",
        "    count = 0\n",
        "    i = n\n",
        "    print(\"primer nivel\")\n",
        "    while i>= 1:\n",
        "        print(\"segundo nivel\")\n",
        "        count += 1\n",
        "        i = i//2\n",
        "    basura = 3 + 2\n",
        "    return count"
      ],
      "execution_count": null,
      "outputs": []
    },
    {
      "cell_type": "markdown",
      "metadata": {
        "id": "7fFMl9lQN7Wb"
      },
      "source": [
        "La funcion de este algoritmo es \n",
        "3 + 2log(n,2)\n",
        "\n",
        "#Tabla de la funcion\n",
        "/content/Tabla Funcion.xlsx"
      ]
    }
  ]
}