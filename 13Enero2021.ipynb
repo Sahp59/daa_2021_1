{
  "nbformat": 4,
  "nbformat_minor": 0,
  "metadata": {
    "colab": {
      "name": "13Enero2021.ipynb",
      "provenance": []
    },
    "kernelspec": {
      "name": "python3",
      "display_name": "Python 3"
    }
  },
  "cells": [
    {
      "cell_type": "code",
      "metadata": {
        "id": "VYHbY4W77EB1"
      },
      "source": [
        "class NodoArbol:\r\n",
        "  def __init__(self , value , left = None, rigth = None):\r\n",
        "    self.data = value\r\n",
        "    self.left = left\r\n",
        "    self.rigth = rigth"
      ],
      "execution_count": 4,
      "outputs": []
    },
    {
      "cell_type": "code",
      "metadata": {
        "id": "gz5iqGNlS59q"
      },
      "source": [
        "class BinarySearchTree:\r\n",
        "  def __init__(self):\r\n",
        "    self.__root = None\r\n",
        "  def insert(self,value):\r\n",
        "    if self.__root == None:\r\n",
        "      self.__root = NodoArbol(value,None,None)\r\n",
        "    else:\r\n",
        "      #Preguntar si value es menor que root, de ser el caso insertar a la izq\r\n",
        "      #PERO puede ser el caso que el sub arbol izquierdo ya tenga muchos elementos\r\n",
        "      self.__insert_nodo__(self.__root,value)\r\n",
        "  \r\n",
        "  def __insert_nodo__(self,nodo,value):\r\n",
        "    if nodo.data == value:\r\n",
        "      pass\r\n",
        "    elif value < nodo.data: #true si va a la IZQUIERDAD\r\n",
        "      if nodo.left == None: #Si hay espacio en la izquierda, ahi va\r\n",
        "        nodo.left = NodoArbol(value,None,None) #Insertamos el nodo\r\n",
        "      else:\r\n",
        "        self.__insert_nodo__(nodo.left,value) #Buscamos en sub arbol izq\r\n",
        "    else:\r\n",
        "      if nodo.rigth == None:\r\n",
        "        nodo.rigth = NodoArbol(value,None,None)\r\n",
        "      else:\r\n",
        "        self.__insert_nodo__(nodo.rigth , value)\r\n"
      ],
      "execution_count": 11,
      "outputs": []
    },
    {
      "cell_type": "code",
      "metadata": {
        "id": "Do-6yrGAbzPU"
      },
      "source": [
        "bst = BinarySearchTree()\r\n",
        "bst.insert(50)\r\n",
        "bst.insert(30)\r\n",
        "bst.insert(20)"
      ],
      "execution_count": 13,
      "outputs": []
    }
  ]
}