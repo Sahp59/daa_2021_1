{
  "nbformat": 4,
  "nbformat_minor": 0,
  "metadata": {
    "colab": {
      "name": "Tarea 6. Fuerza Bruta",
      "provenance": [],
      "collapsed_sections": [],
      "authorship_tag": "ABX9TyOYJWj7FH2B3cWusLSCr5gR",
      "include_colab_link": true
    },
    "kernelspec": {
      "display_name": "Python 3",
      "name": "python3"
    }
  },
  "cells": [
    {
      "cell_type": "markdown",
      "metadata": {
        "id": "view-in-github",
        "colab_type": "text"
      },
      "source": [
        "<a href=\"https://colab.research.google.com/github/Sahp59/daa_2021_1/blob/master/Tarea_6_Fuerza_Bruta.ipynb\" target=\"_parent\"><img src=\"https://colab.research.google.com/assets/colab-badge.svg\" alt=\"Open In Colab\"/></a>"
      ]
    },
    {
      "cell_type": "markdown",
      "metadata": {
        "id": "1JmO6y2QxVIV"
      },
      "source": [
        "# Tarea 6. Fuerza Bruta\n",
        "Realizar un Programa que encuentre la frecuencia de aparición de todas las palabras del siguiente texto por fuerza bruta\n",
        "\n",
        "El lema que anima a la Universidad Nacional, Por mi raza hablará el espíritu, revela la vocación humanística con la que fue concebida. El autor de esta célebre frase, José Vasconcelos, asumió la rectoría en 1920, en una época en que las esperanzas de la Revolución aún estaban vivas, había una gran fe en la Patria y el ánimo redentor se extendía en el ambiente.\n",
        "\n",
        "\n",
        "Normalizar:\n",
        "*Convertir en minúsculas, y quitar signos de puntuación.\n",
        "*Para normalizar el texto también hay que programarlo"
      ]
    },
    {
      "cell_type": "code",
      "metadata": {
        "colab": {
          "base_uri": "https://localhost:8080/"
        },
        "id": "JW6H3-xz6Kwp",
        "outputId": "53973bb6-76a0-426a-a758-cd8842c46dd7"
      },
      "source": [
        "#Texto\n",
        "texto = \"El lema que anima a la Universidad Nacional, Por mi raza hablará el espíritu, revela la vocación humanística con la que fue concebida. El autor de esta célebre frase, José Vasconcelos, asumió la rectoría en 1920, en una época en que las esperanzas de la Revolución aún estaban vivas, había una gran fe en la Patria y el ánimo redentor se extendía en el ambiente.\"\n",
        "texto = texto.lower().replace(\",\",\"\").replace(\".\",\"\").split(\" \") #Minusculas. comas. puntos. espacios\n",
        "#Realizamos conteo\n",
        "pEncontradas = []\n",
        "for i in range(len(texto)):\n",
        "    conteoInt = 0\n",
        "    for j in range(len(texto)):\n",
        "        if(texto[i] == texto[j]):\n",
        "            conteoInt += 1\n",
        "            pEncontradas.append(texto[i]+f\" {conteoInt}\")\n",
        "            if(conteoInt>1):\n",
        "                pEncontradas.remove(f'{texto[i]} {conteoInt-1}')\n",
        "#Eliminamos los conteos repetidos\n",
        "resultado = []\n",
        "for elemento in pEncontradas:\n",
        "    if elemento not in resultado:\n",
        "        resultado.append(elemento)\n",
        "#Ordenamos alfabeticamente\n",
        "resultado.sort()\n",
        "#imprimimos cada elemento y su conteo\n",
        "for elemento in resultado:\n",
        "    print(elemento)\n"
      ],
      "execution_count": 2,
      "outputs": [
        {
          "output_type": "stream",
          "text": [
            "1920 1\n",
            "a 1\n",
            "ambiente 1\n",
            "anima 1\n",
            "asumió 1\n",
            "autor 1\n",
            "aún 1\n",
            "con 1\n",
            "concebida 1\n",
            "célebre 1\n",
            "de 2\n",
            "el 5\n",
            "en 5\n",
            "esperanzas 1\n",
            "espíritu 1\n",
            "esta 1\n",
            "estaban 1\n",
            "extendía 1\n",
            "fe 1\n",
            "frase 1\n",
            "fue 1\n",
            "gran 1\n",
            "hablará 1\n",
            "había 1\n",
            "humanística 1\n",
            "josé 1\n",
            "la 6\n",
            "las 1\n",
            "lema 1\n",
            "mi 1\n",
            "nacional 1\n",
            "patria 1\n",
            "por 1\n",
            "que 3\n",
            "raza 1\n",
            "rectoría 1\n",
            "redentor 1\n",
            "revela 1\n",
            "revolución 1\n",
            "se 1\n",
            "una 2\n",
            "universidad 1\n",
            "vasconcelos 1\n",
            "vivas 1\n",
            "vocación 1\n",
            "y 1\n",
            "ánimo 1\n",
            "época 1\n"
          ],
          "name": "stdout"
        }
      ]
    }
  ]
}