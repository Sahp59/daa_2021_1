{
  "nbformat": 4,
  "nbformat_minor": 0,
  "metadata": {
    "colab": {
      "name": "5octubre.ipynb",
      "provenance": [],
      "collapsed_sections": [],
      "authorship_tag": "ABX9TyOam0usjtB8eTM5+6iX0Jdc",
      "include_colab_link": true
    },
    "kernelspec": {
      "name": "python3",
      "display_name": "Python 3"
    }
  },
  "cells": [
    {
      "cell_type": "markdown",
      "metadata": {
        "id": "view-in-github",
        "colab_type": "text"
      },
      "source": [
        "<a href=\"https://colab.research.google.com/github/Sahp59/daa_2021_1/blob/master/5octubre.ipynb\" target=\"_parent\"><img src=\"https://colab.research.google.com/assets/colab-badge.svg\" alt=\"Open In Colab\"/></a>"
      ]
    },
    {
      "cell_type": "markdown",
      "metadata": {
        "id": "VFrqbYG__aHn"
      },
      "source": [
        "## Estructura de datos Pila (Stack)\n",
        "Es una estructura lineal, con elementos agrupados y edentificados por la posicion.  \n",
        "\n",
        "- Se basa en la estructra LIFO (Last In First Out)\n",
        "- Es tipo lineal\n",
        "- Push para agregar\n",
        "- Pop para remover\n",
        "\n",
        "### Operaciones\n",
        "1. is_empty (regresa true o false)\n",
        "2. get_top (regresa el elemento en ele tope SIN SACARLO)\n",
        "3. Pop (saca el elemento del tope y lo regresa)\n",
        "4. Push (mete un elemento en el tope)\n",
        "5. get_length (regresa el numero de elementos en la fila)\n",
        "\n",
        "\n"
      ]
    },
    {
      "cell_type": "code",
      "metadata": {
        "id": "D86dPnYk_DuM",
        "outputId": "aedf6165-1f62-4167-b142-4ae75af969ca",
        "colab": {
          "base_uri": "https://localhost:8080/",
          "height": 425
        }
      },
      "source": [
        "class Stack:\n",
        "  def _init_(self):\n",
        "    self.__datos = []\n",
        "  def is_empty(self):\n",
        "    return len(self.__datos) == 0\n",
        "  def det_top(self):\n",
        "    return self.__datos[-1]\n",
        "  def pop(self):\n",
        "    return self.__datos.pop()  \n",
        "  def push(self , valor):\n",
        "    self.__datos.append(valor)\n",
        "  def get_length(self):\n",
        "    return len(self.__datos)\n",
        "  def to_string(self):\n",
        "    print(\"-------------\")\n",
        "    for puntero in self.__datos[::-1]:\n",
        "      print(puntero)\n",
        "    print(\"-------------\")\n",
        "\n",
        "pila1 = Stack()\n",
        "pila1._init_()\n",
        "pila1.push(10)\n",
        "pila1.push(20)\n",
        "pila1.push(1)\n",
        "pila1.push(393)\n",
        "pila1.push(103)\n",
        "pila1.to_string()\n",
        "\n",
        "sacado = pila1.pop()\n",
        "print(sacado)\n",
        "pila1.to_string()\n",
        "\n",
        "pila1.push(444)\n",
        "pila1.push(233)\n",
        "pila1.to_string()\n",
        "\n",
        "print(f\"La pila tiene { pila1.get_length()} elementos\")\n",
        "print(f\"¿La pila esta vacia? {pila1.is_empty()}\")"
      ],
      "execution_count": 12,
      "outputs": [
        {
          "output_type": "stream",
          "text": [
            "-------------\n",
            "103\n",
            "393\n",
            "1\n",
            "20\n",
            "10\n",
            "-------------\n",
            "103\n",
            "-------------\n",
            "393\n",
            "1\n",
            "20\n",
            "10\n",
            "-------------\n",
            "-------------\n",
            "233\n",
            "444\n",
            "393\n",
            "1\n",
            "20\n",
            "10\n",
            "-------------\n",
            "La pila tiene 6 elementos\n",
            "¿La pila esta vacia? False\n"
          ],
          "name": "stdout"
        }
      ]
    },
    {
      "cell_type": "markdown",
      "metadata": {
        "id": "AnjZAvWmIta4"
      },
      "source": [
        "## Ejemplo de aplicacion de pilas\n"
      ]
    }
  ]
}