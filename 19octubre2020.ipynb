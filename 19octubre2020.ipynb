{
  "nbformat": 4,
  "nbformat_minor": 0,
  "metadata": {
    "colab": {
      "name": "19octubre2020.ipynb",
      "provenance": [],
      "authorship_tag": "ABX9TyPrrJFWnEl3HbjV3ZKkdxZh",
      "include_colab_link": true
    },
    "kernelspec": {
      "name": "python3",
      "display_name": "Python 3"
    }
  },
  "cells": [
    {
      "cell_type": "markdown",
      "metadata": {
        "id": "view-in-github",
        "colab_type": "text"
      },
      "source": [
        "<a href=\"https://colab.research.google.com/github/Sahp59/daa_2021_1/blob/master/19octubre2020.ipynb\" target=\"_parent\"><img src=\"https://colab.research.google.com/assets/colab-badge.svg\" alt=\"Open In Colab\"/></a>"
      ]
    },
    {
      "cell_type": "code",
      "metadata": {
        "id": "q24KQWwOM6Ra",
        "outputId": "28f5be0b-53a2-45c4-bf37-3fac2a5bdcbb",
        "colab": {
          "base_uri": "https://localhost:8080/",
          "height": 272
        }
      },
      "source": [
        "a2d = [[3,2,1],[6,4,8],[7,4,2]]\n",
        "print(a2d)\n",
        "n = 3\n",
        "\n",
        "total = 0                         #1\n",
        "print(\"nivel 1\")\n",
        "for r in range(n):\n",
        "  sumaRenglon = 0                 #n\n",
        "  print(\"nivel 2\")\n",
        "  for c in range(n):\n",
        "    print(\"nivel 3\")\n",
        "    sumaRenglon += a2d[r][c]      #n^2\n",
        "    total += a2d[r][c]            #n^2\n",
        "\n",
        "print(total)"
      ],
      "execution_count": null,
      "outputs": [
        {
          "output_type": "stream",
          "text": [
            "[[3, 2, 1], [6, 4, 8], [7, 4, 2]]\n",
            "nivel 1\n",
            "nivel 2\n",
            "nivel 3\n",
            "nivel 3\n",
            "nivel 3\n",
            "nivel 2\n",
            "nivel 3\n",
            "nivel 3\n",
            "nivel 3\n",
            "nivel 2\n",
            "nivel 3\n",
            "nivel 3\n",
            "nivel 3\n",
            "37\n"
          ],
          "name": "stdout"
        }
      ]
    }
  ]
}