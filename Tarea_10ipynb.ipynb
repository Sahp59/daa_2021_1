{
  "nbformat": 4,
  "nbformat_minor": 0,
  "metadata": {
    "colab": {
      "name": "Tarea 10ipynb",
      "provenance": [],
      "collapsed_sections": []
    },
    "kernelspec": {
      "name": "python3",
      "display_name": "Python 3"
    }
  },
  "cells": [
    {
      "cell_type": "markdown",
      "metadata": {
        "id": "2K2uC_LPdJjl"
      },
      "source": [
        "EL PRIMER NODO QUE IMPRIME ES EL NODO DE MAYOR NIVEL"
      ]
    },
    {
      "cell_type": "code",
      "metadata": {
        "id": "VYHbY4W77EB1"
      },
      "source": [
        "class NodoArbol:\r\n",
        "  def __init__(self , value , left = None, rigth = None):\r\n",
        "    self.data = value\r\n",
        "    self.left = left\r\n",
        "    self.rigth = rigth"
      ],
      "execution_count": 2,
      "outputs": []
    },
    {
      "cell_type": "code",
      "metadata": {
        "id": "gz5iqGNlS59q"
      },
      "source": [
        "class BinarySearchTree:\r\n",
        "  def __init__(self):\r\n",
        "    self.__root = None\r\n",
        "\r\n",
        "  def insert(self,value):\r\n",
        "    if self.__root == None:\r\n",
        "      self.__root = NodoArbol(value,None,None)\r\n",
        "    else:\r\n",
        "      #Preguntar si value es menor que root, de ser el caso insertar a la izq\r\n",
        "      #PERO puede ser el caso que el sub arbol izquierdo ya tenga muchos elementos\r\n",
        "      self.__insert_nodo__(self.__root,value)\r\n",
        "  \r\n",
        "  def __insert_nodo__(self,nodo,value):\r\n",
        "    if nodo.data == value:\r\n",
        "      pass\r\n",
        "    elif value < nodo.data: #true si va a la IZQUIERDAD\r\n",
        "      if nodo.left == None: #Si hay espacio en la izquierda, ahi va\r\n",
        "        nodo.left = NodoArbol(value,None,None) #Insertamos el nodo\r\n",
        "      else:\r\n",
        "        self.__insert_nodo__(nodo.left,value) #Buscamos en sub arbol izq\r\n",
        "    else:\r\n",
        "      if nodo.rigth == None:\r\n",
        "        nodo.rigth = NodoArbol(value,None,None)\r\n",
        "      else:\r\n",
        "        self.__insert_nodo__(nodo.rigth , value)\r\n",
        "\r\n",
        "  def hojaAlta(self):\r\n",
        "    self.__recorrido(self.__root)\r\n",
        "\r\n",
        "  def __recorrido(self,nodo):\r\n",
        "    aux = nodo\r\n",
        "    if aux != None:\r\n",
        "      self.__recorrido(aux.left)\r\n",
        "      self.__recorrido(aux.rigth)\r\n",
        "      print(f\"{aux.data} Es el nodo hoja al nivel más alto \")"
      ],
      "execution_count": 3,
      "outputs": []
    },
    {
      "cell_type": "code",
      "metadata": {
        "id": "Do-6yrGAbzPU",
        "colab": {
          "base_uri": "https://localhost:8080/"
        },
        "outputId": "1c0184b1-5e74-41b3-a16f-afa5a0e94708"
      },
      "source": [
        "bst1 = BinarySearchTree()\r\n",
        "bst2 = BinarySearchTree()\r\n",
        "bst3 = BinarySearchTree()\r\n",
        "bst4 = BinarySearchTree()\r\n",
        "\r\n",
        "bst1.insert(50)\r\n",
        "bst1.insert(60)\r\n",
        "bst1.insert(20)\r\n",
        "bst1.insert(10)\r\n",
        "bst1.insert(15)\r\n",
        "bst1.insert(5)\r\n",
        "bst1.insert(7)\r\n",
        "\r\n",
        "bst2.insert(3)\r\n",
        "bst2.insert(74)\r\n",
        "bst2.insert(69)\r\n",
        "bst2.insert(81)\r\n",
        "bst2.insert(33)\r\n",
        "\r\n",
        "bst3.insert(63)\r\n",
        "bst3.insert(29)\r\n",
        "bst3.insert(89)\r\n",
        "bst3.insert(6)\r\n",
        "bst3.insert(52)\r\n",
        "bst3.insert(79)\r\n",
        "bst3.insert(94)\r\n",
        "bst3.insert(5)\r\n",
        "\r\n",
        "bst4.insert(25)\r\n",
        "bst4.insert(49)\r\n",
        "bst4.insert(22)\r\n",
        "bst4.insert(76)\r\n",
        "bst4.insert(72)\r\n",
        "\r\n",
        "print(\"EL PRIMER NODO QUE IMPRIME ES EL NODO DE MAYOR NIVEL\")\r\n",
        "print(\"\\nArbol 1\")\r\n",
        "bst1.hojaAlta()\r\n",
        "print(\"\\nArbol 2\")\r\n",
        "bst2.hojaAlta()\r\n",
        "print(\"\\nArbol 3\")\r\n",
        "bst3.hojaAlta()\r\n",
        "print(\"\\nArbol 4\")\r\n",
        "bst4.hojaAlta()"
      ],
      "execution_count": 19,
      "outputs": [
        {
          "output_type": "stream",
          "text": [
            "EL PRIMER NODO QUE IMPRIME ES EL NODO DE MAYOR NIVEL\n",
            "\n",
            "Arbol 1\n",
            "7 Es el nodo hoja al nivel más alto \n",
            "5 Es el nodo hoja al nivel más alto \n",
            "15 Es el nodo hoja al nivel más alto \n",
            "10 Es el nodo hoja al nivel más alto \n",
            "20 Es el nodo hoja al nivel más alto \n",
            "60 Es el nodo hoja al nivel más alto \n",
            "50 Es el nodo hoja al nivel más alto \n",
            "\n",
            "Arbol 2\n",
            "33 Es el nodo hoja al nivel más alto \n",
            "69 Es el nodo hoja al nivel más alto \n",
            "81 Es el nodo hoja al nivel más alto \n",
            "74 Es el nodo hoja al nivel más alto \n",
            "3 Es el nodo hoja al nivel más alto \n",
            "\n",
            "Arbol 3\n",
            "5 Es el nodo hoja al nivel más alto \n",
            "6 Es el nodo hoja al nivel más alto \n",
            "52 Es el nodo hoja al nivel más alto \n",
            "29 Es el nodo hoja al nivel más alto \n",
            "79 Es el nodo hoja al nivel más alto \n",
            "94 Es el nodo hoja al nivel más alto \n",
            "89 Es el nodo hoja al nivel más alto \n",
            "63 Es el nodo hoja al nivel más alto \n",
            "\n",
            "Arbol 4\n",
            "22 Es el nodo hoja al nivel más alto \n",
            "72 Es el nodo hoja al nivel más alto \n",
            "76 Es el nodo hoja al nivel más alto \n",
            "49 Es el nodo hoja al nivel más alto \n",
            "25 Es el nodo hoja al nivel más alto \n"
          ],
          "name": "stdout"
        }
      ]
    }
  ]
}