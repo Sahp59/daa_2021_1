{
  "nbformat": 4,
  "nbformat_minor": 0,
  "metadata": {
    "colab": {
      "name": "Tarea 8 Búsqueda Binaria.ipynb",
      "provenance": []
    },
    "kernelspec": {
      "name": "python3",
      "display_name": "Python 3"
    }
  },
  "cells": [
    {
      "cell_type": "markdown",
      "metadata": {
        "id": "zn-04nfPzzQx"
      },
      "source": [
        "Planteamiento del problema:\r\n",
        "El siguiente código se puede considerar la simulación de una pequeña base de datos de alumnos, se encuentra implementado con diccionarios dentro de una lista python.\r\n",
        "\r\n",
        "Se puede observar que los alumnos estan ordenados por la llave 'id'.\r\n",
        "\r\n",
        "El objetivo de la tarea es realizar busquedas empleando el algoritmo de Búsqueda binaria recursiva.\r\n",
        "\r\n",
        "El programa debe solicitar el id a buscar. Posteriormente debe buscar(en la lista bd) el alumno en la base de datos y de existir, mostrará la información completa del alumno como en el siguiente,\r\n",
        "\r\n",
        "ejemplo 1:\r\n",
        "¿Dame el id del alumno a buscar?: 16\r\n",
        "\r\n",
        "Resultado: Diana estudia la carrera DER y tiene un promedio de 9.9\r\n",
        "\r\n",
        " ejemplo 2:\r\n",
        "¿Dame el id del alumno a buscar?: 15\r\n",
        "\r\n",
        "Resultado: El alumno no existe en la base de datos."
      ]
    },
    {
      "cell_type": "code",
      "metadata": {
        "colab": {
          "base_uri": "https://localhost:8080/"
        },
        "id": "UzsL5OpnzxMV",
        "outputId": "a60f6302-7f09-4cf6-80f9-e11723698d08"
      },
      "source": [
        "def BusBinRecursiva(bd,lon,Elemento,izquierda=None):\r\n",
        "    try:\r\n",
        "        der = lon-1\r\n",
        "        if izquierda == None:\r\n",
        "            izq = der - (2*(int((lon/2))))\r\n",
        "        else:\r\n",
        "            izq = izquierda\r\n",
        "        \r\n",
        "        medio = int((izq+der)/2)\r\n",
        "        \r\n",
        "        imprime = False\r\n",
        "    \r\n",
        "        if Elemento == bd[izq][\"id\"] and imprime == False:\r\n",
        "            print(bd[izq][\"nombre\"]+\" Estudia la carrera de \"+bd[izq][\"carrera\"]+\" y tiene un promedio de \"+str(bd[izq][\"promedio\"]))\r\n",
        "            imprime = True\r\n",
        "        if Elemento == bd[medio][\"id\"] and imprime == False:\r\n",
        "            print(bd[medio][\"nombre\"]+\" Estudia la carrera de \"+bd[medio][\"carrera\"]+\" y tiene un promedio de \"+str(bd[medio][\"promedio\"]))\r\n",
        "            imprime = True\r\n",
        "        if Elemento == bd[der][\"id\"] and imprime == False:\r\n",
        "            print(bd[der][\"nombre\"]+\" Estudia la carrera de \"+bd[der][\"carrera\"]+\" y tiene un promedio de \"+str(bd[der][\"promedio\"]))\r\n",
        "            imprime = True\r\n",
        "            \r\n",
        "        if imprime == False:\r\n",
        "            if Elemento < bd[medio][\"id\"]:\r\n",
        "                BusBinRecursiva(bd,medio,Elemento)\r\n",
        "            else:\r\n",
        "                BusBinRecursiva(bd,der,Elemento,(medio+1))\r\n",
        "    except:\r\n",
        "        print(\"id No encontrado\")\r\n",
        "    \r\n",
        "        \r\n",
        "alumno1={'id':2, 'nombre':\"Juan\" , 'carrera':\"ICO\", 'promedio':7.67}\r\n",
        "alumno2={'id':4, 'nombre':\"Rocio\" , 'carrera':\"ICI\", 'promedio':8.67}\r\n",
        "alumno3={'id':5, 'nombre':\"Diego\" , 'carrera':\"DER\", 'promedio':8.98}\r\n",
        "alumno4={'id':7, 'nombre':\"May\" , 'carrera':\"ICI\", 'promedio':9.87}\r\n",
        "alumno5={'id':9, 'nombre':\"Rob\" , 'carrera':\"IME\", 'promedio':10.00}\r\n",
        "alumno6={'id':10, 'nombre':\"Santi\" , 'carrera':\"ICO\", 'promedio':5.37}\r\n",
        "alumno7={'id':14, 'nombre':\"Moy\" , 'carrera':\"IME\", 'promedio':6.85}\r\n",
        "alumno8={'id':16, 'nombre':\"Diana\" , 'carrera':\"DER\", 'promedio':9.99}\r\n",
        "alumno9={'id':19, 'nombre':\"Zoila\" , 'carrera':\"ICO\", 'promedio':8.22}\r\n",
        "alumno10={'id':22, 'nombre':\"Armando\" , 'carrera':\"ICO\", 'promedio':7.32}\r\n",
        "\r\n",
        "bd = []\r\n",
        "bd.append(alumno1)\r\n",
        "bd.append(alumno2)\r\n",
        "bd.append(alumno3)\r\n",
        "bd.append(alumno4)\r\n",
        "bd.append(alumno5)\r\n",
        "bd.append(alumno6)\r\n",
        "bd.append(alumno7)\r\n",
        "bd.append(alumno8)\r\n",
        "bd.append(alumno9)\r\n",
        "bd.append(alumno10)\r\n",
        "\r\n",
        "print(bd)\r\n",
        "\r\n",
        "print(\"\\nDame el id del alumno a buscar\")\r\n",
        "IDbuscar = int(input())\r\n",
        "\r\n",
        "BusBinRecursiva(bd,len(bd),IDbuscar)"
      ],
      "execution_count": 3,
      "outputs": [
        {
          "output_type": "stream",
          "text": [
            "[{'id': 2, 'nombre': 'Juan', 'carrera': 'ICO', 'promedio': 7.67}, {'id': 4, 'nombre': 'Rocio', 'carrera': 'ICI', 'promedio': 8.67}, {'id': 5, 'nombre': 'Diego', 'carrera': 'DER', 'promedio': 8.98}, {'id': 7, 'nombre': 'May', 'carrera': 'ICI', 'promedio': 9.87}, {'id': 9, 'nombre': 'Rob', 'carrera': 'IME', 'promedio': 10.0}, {'id': 10, 'nombre': 'Santi', 'carrera': 'ICO', 'promedio': 5.37}, {'id': 14, 'nombre': 'Moy', 'carrera': 'IME', 'promedio': 6.85}, {'id': 16, 'nombre': 'Diana', 'carrera': 'DER', 'promedio': 9.99}, {'id': 19, 'nombre': 'Zoila', 'carrera': 'ICO', 'promedio': 8.22}, {'id': 22, 'nombre': 'Armando', 'carrera': 'ICO', 'promedio': 7.32}]\n",
            "\n",
            "Dame el id del alumno a buscar\n",
            "22\n",
            "Armando Estudia la carrera de ICO y tiene un promedio de 7.32\n"
          ],
          "name": "stdout"
        }
      ]
    }
  ]
}