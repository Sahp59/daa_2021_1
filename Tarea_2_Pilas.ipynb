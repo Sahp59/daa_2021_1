{
  "nbformat": 4,
  "nbformat_minor": 0,
  "metadata": {
    "colab": {
      "name": "Tarea 2 Pilas.ipynb",
      "provenance": [],
      "authorship_tag": "ABX9TyMCZqdjf+N11VcQG+m2c/zC",
      "include_colab_link": true
    },
    "kernelspec": {
      "name": "python3",
      "display_name": "Python 3"
    }
  },
  "cells": [
    {
      "cell_type": "markdown",
      "metadata": {
        "id": "view-in-github",
        "colab_type": "text"
      },
      "source": [
        "<a href=\"https://colab.research.google.com/github/Sahp59/daa_2021_1/blob/master/Tarea_2_Pilas.ipynb\" target=\"_parent\"><img src=\"https://colab.research.google.com/assets/colab-badge.svg\" alt=\"Open In Colab\"/></a>"
      ]
    },
    {
      "cell_type": "code",
      "metadata": {
        "id": "Smg6kQb8oxm3",
        "outputId": "3c8b2775-62f2-491d-f6ad-8dba56247cd4",
        "colab": {
          "base_uri": "https://localhost:8080/",
          "height": 241
        }
      },
      "source": [
        "class Stack:\n",
        "    def _init_(self):\n",
        "        self.__datos = []\n",
        "    def is_empty(self):\n",
        "        return len(self.__datos) == 0\n",
        "    def det_top(self):\n",
        "        return self.__datos[-1]\n",
        "    def pop(self):\n",
        "        try:\n",
        "            return self.__datos.pop()\n",
        "        except:\n",
        "            self.__datos=[\"@\"]\n",
        "    def push(self , valor):\n",
        "        self.__datos.append(valor)\n",
        "    def get_length(self):\n",
        "        return len(self.__datos)\n",
        "    def to_string(self):\n",
        "        print(\"-------------\")\n",
        "        for puntero in self.__datos[::-1]:\n",
        "            print(puntero)\n",
        "        print(\"-------------\")\n",
        "def chequeo(codigo):\n",
        "    parentesis = Stack()\n",
        "    parentesis._init_()\n",
        "    corchetes = Stack()\n",
        "    corchetes._init_()\n",
        "    llaves = Stack()\n",
        "    llaves._init_()\n",
        "    for puntero in codigo:\n",
        "        if (puntero == \"(\"):\n",
        "            parentesis.push(\"@\")\n",
        "        elif (puntero == \")\"):\n",
        "            parentesis.pop()\n",
        "        elif (puntero == \"[\"):\n",
        "            corchetes.push(\"@\")\n",
        "        elif (puntero == \"]\"):\n",
        "            corchetes.pop()\n",
        "        elif (puntero == \"{\"):\n",
        "            llaves.push(\"@\")\n",
        "        elif (puntero == \"}\"):\n",
        "            llaves.pop()\n",
        "    print(f\"-----La equivalencia de parentesis es: {parentesis.is_empty()}-----\")\n",
        "    print(f\"-----La equivalencia de corchetes es: {corchetes.is_empty()}------\")\n",
        "    print(f\"-----La equivalencia de llaves es: {llaves.is_empty()}----------\")\n",
        "    \n",
        "#Codigo Hola Mundo en Java Correcto\n",
        "codigo =\"public class HolaMundo{public static void main (String [ ] args){System.out.println (\"+\"Hola Mundo\"+\");}}\"\n",
        "print(codigo)\n",
        "chequeo(codigo)\n",
        "#Codigo Hola Mundo en Java Incorrecto SIN PARENTESIS Y SINCORCHETES DE CIERRE\n",
        "codigo =\"public class HolaMundo{public static void main (String [  args){System.out.println (\"+\"Hola Mundo\"+\";}}\"\n",
        "print(codigo)\n",
        "chequeo(codigo)\n",
        "#Codigo Hola Mundo en Java Incorrecto SIN LLAVES Y SIN CORCHETES DE INICIO\n",
        "codigo =\"public class HolaMundo public static void main (String  ] args){System.out.println (\"+\"Hola Mundo\"+\");}}\"\n",
        "print(codigo)\n",
        "chequeo(codigo)"
      ],
      "execution_count": 1,
      "outputs": [
        {
          "output_type": "stream",
          "text": [
            "public class HolaMundo{public static void main (String [ ] args){System.out.println (Hola Mundo);}}\n",
            "-----La equivalencia de parentesis es: True-----\n",
            "-----La equivalencia de corchetes es: True------\n",
            "-----La equivalencia de llaves es: True----------\n",
            "public class HolaMundo{public static void main (String [  args){System.out.println (Hola Mundo;}}\n",
            "-----La equivalencia de parentesis es: False-----\n",
            "-----La equivalencia de corchetes es: False------\n",
            "-----La equivalencia de llaves es: True----------\n",
            "public class HolaMundo public static void main (String  ] args){System.out.println (Hola Mundo);}}\n",
            "-----La equivalencia de parentesis es: True-----\n",
            "-----La equivalencia de corchetes es: False------\n",
            "-----La equivalencia de llaves es: False----------\n"
          ],
          "name": "stdout"
        }
      ]
    }
  ]
}